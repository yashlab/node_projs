{
 "cells": [
  {
   "cell_type": "code",
   "execution_count": 3,
   "id": "anonymous-discovery",
   "metadata": {},
   "outputs": [],
   "source": [
    "import requests\n",
    "from bs4 import BeautifulSoup\n",
    "import imgkit\n",
    "import random,json"
   ]
  },
  {
   "cell_type": "code",
   "execution_count": 5,
   "id": "chemical-porcelain",
   "metadata": {},
   "outputs": [],
   "source": [
    "with open('chap_verse_cnt.json') as inp_file:\n",
    "    chap_verse = json.load(inp_file)"
   ]
  },
  {
   "cell_type": "code",
   "execution_count": 6,
   "id": "alpine-deputy",
   "metadata": {},
   "outputs": [
    {
     "data": {
      "text/plain": [
       "{'1': 47,\n",
       " '2': 72,\n",
       " '3': 43,\n",
       " '4': 42,\n",
       " '5': 29,\n",
       " '6': 47,\n",
       " '7': 30,\n",
       " '8': 28,\n",
       " '9': 34,\n",
       " '10': 42,\n",
       " '11': 55,\n",
       " '12': 20,\n",
       " '13': 34,\n",
       " '14': 27,\n",
       " '15': 20,\n",
       " '16': 24,\n",
       " '17': 28,\n",
       " '18': 78}"
      ]
     },
     "execution_count": 6,
     "metadata": {},
     "output_type": "execute_result"
    }
   ],
   "source": [
    "chap_verse"
   ]
  },
  {
   "cell_type": "code",
   "execution_count": null,
   "id": "portable-cutting",
   "metadata": {},
   "outputs": [],
   "source": []
  }
 ],
 "metadata": {
  "kernelspec": {
   "display_name": "Python 3",
   "language": "python",
   "name": "python3"
  },
  "language_info": {
   "codemirror_mode": {
    "name": "ipython",
    "version": 3
   },
   "file_extension": ".py",
   "mimetype": "text/x-python",
   "name": "python",
   "nbconvert_exporter": "python",
   "pygments_lexer": "ipython3",
   "version": "3.7.6"
  }
 },
 "nbformat": 4,
 "nbformat_minor": 5
}
