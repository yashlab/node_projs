{
 "cells": [
  {
   "cell_type": "code",
   "execution_count": 1,
   "id": "happy-western",
   "metadata": {},
   "outputs": [],
   "source": [
    "import requests\n",
    "from bs4 import BeautifulSoup"
   ]
  },
  {
   "cell_type": "code",
   "execution_count": 2,
   "id": "elder-madness",
   "metadata": {},
   "outputs": [
    {
     "name": "stdout",
     "output_type": "stream",
     "text": [
      "Chapter 1 (47 verses)\n",
      "Chapter 2 (72 verses)\n",
      "Chapter 3 (43 verses)\n",
      "Chapter 4 (42 verses)\n",
      "Chapter 5 (29 verses)\n",
      "Chapter 6 (47 verses)\n",
      "Chapter 7 (30 verses)\n",
      "Chapter 8 (28 verses)\n",
      "Chapter 9 (34 verses)\n",
      "Chapter 10 (42 verses)\n",
      "Chapter 11 (55 verses)\n",
      "Chapter 12 (20 verses)\n",
      "Chapter 13 (34 verses)\n",
      "Chapter 14 (27 verses)\n",
      "Chapter 15 (20 verses)\n",
      "Chapter 16 (24 verses)\n",
      "Chapter 17 (28 verses)\n",
      "Chapter 18 (78 verses)\n"
     ]
    }
   ],
   "source": [
    "# fetch chapter wise details:\n",
    "chap_verse_cnt_dict = {}\n",
    "for i in BeautifulSoup(requests.get('https://en.wikipedia.org/wiki/Bhagavad_Gita#Chapters').content,\n",
    "                       'html.parser').find_all(class_='mw-headline'):\n",
    "    tx = i.get_text()\n",
    "    if (tx.find('Chapter ')!=-1):\n",
    "        print(tx)        \n",
    "        chap_verse_cnt_dict.update({tx.split(' ')[1]:int(tx.split(' ')[2][1:])})\n"
   ]
  },
  {
   "cell_type": "code",
   "execution_count": 3,
   "id": "intellectual-quebec",
   "metadata": {},
   "outputs": [],
   "source": [
    "chap_url = \"https://bhagavadgita.io/\""
   ]
  },
  {
   "cell_type": "code",
   "execution_count": 4,
   "id": "sonic-johnson",
   "metadata": {},
   "outputs": [],
   "source": [
    "chap_details = {}\n",
    "for i in BeautifulSoup(requests.get(chap_url).content,'html.parser').find_all(class_ = 'view view-cascade gradient-card-header h-100'):\n",
    "    text = i.get_text().strip()\n",
    "    chap_details.update({str(text.split('.')[0].lstrip()):str(text.split('.')[1]).strip()})"
   ]
  },
  {
   "cell_type": "code",
   "execution_count": 5,
   "id": "democratic-enemy",
   "metadata": {},
   "outputs": [
    {
     "data": {
      "text/plain": [
       "{'1': \"Arjuna Visada Yoga\\nArjuna's Dilemma\",\n",
       " '2': 'Sankhya Yoga\\nTranscendental Knowledge',\n",
       " '3': 'Karma Yoga\\nPath of Selfless Service',\n",
       " '4': 'Jnana Karma Sanyasa Yoga\\nPath of Knowledge and the Disciplines of Action',\n",
       " '5': 'Karma Sanyasa Yoga\\nPath of Renunciation',\n",
       " '6': 'Dhyana Yoga\\nPath of Meditation',\n",
       " '7': 'Gyaan Vigyana Yoga\\nSelf-Knowledge and Enlightenment',\n",
       " '8': 'Akshara Brahma Yoga\\nPath of the Eternal God',\n",
       " '9': 'Raja Vidya Yoga\\nYoga through the King of Sciences',\n",
       " '10': 'Vibhooti Yoga\\nYoga through Appreciating the Infinite Opulences of God',\n",
       " '11': 'Vishwaroopa Darshana Yoga\\nYoga through Beholding the Cosmic Form of God',\n",
       " '12': 'Bhakti Yoga\\nThe Yoga of Devotion',\n",
       " '13': 'Ksetra Ksetrajna Vibhaaga Yoga\\nYoga through Distinguishing the Field and the Knower of the Field',\n",
       " '14': 'Gunatraya Vibhaga Yoga\\nYoga through Understanding the Three Modes of Material Nature',\n",
       " '15': 'Purushottama Yoga\\nThe Yoga of the Supreme Divine Personality',\n",
       " '16': 'Daivasura Sampad Vibhaga Yoga\\nYoga through Discerning the Divine and Demoniac Natures',\n",
       " '17': 'Sraddhatraya Vibhaga Yoga\\nYoga through Discerning the Three Divisions of Faith',\n",
       " '18': 'Moksha Sanyaas Yoga\\nYoga through the Perfection of Renunciation and Surrender'}"
      ]
     },
     "execution_count": 5,
     "metadata": {},
     "output_type": "execute_result"
    }
   ],
   "source": [
    "chap_details"
   ]
  },
  {
   "cell_type": "code",
   "execution_count": 7,
   "id": "varied-denial",
   "metadata": {},
   "outputs": [],
   "source": [
    "import json\n",
    "with open(\"chap_details.json\", \"w\") as outfile: \n",
    "    json.dump(chap_details, outfile)"
   ]
  },
  {
   "cell_type": "code",
   "execution_count": null,
   "id": "center-village",
   "metadata": {},
   "outputs": [],
   "source": []
  }
 ],
 "metadata": {
  "kernelspec": {
   "display_name": "Python 3",
   "language": "python",
   "name": "python3"
  },
  "language_info": {
   "codemirror_mode": {
    "name": "ipython",
    "version": 3
   },
   "file_extension": ".py",
   "mimetype": "text/x-python",
   "name": "python",
   "nbconvert_exporter": "python",
   "pygments_lexer": "ipython3",
   "version": "3.7.6"
  }
 },
 "nbformat": 4,
 "nbformat_minor": 5
}
