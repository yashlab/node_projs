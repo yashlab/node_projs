{
 "cells": [
  {
   "cell_type": "code",
   "execution_count": 1,
   "id": "usual-torture",
   "metadata": {},
   "outputs": [],
   "source": [
    "import requests\n",
    "from bs4 import BeautifulSoup"
   ]
  },
  {
   "cell_type": "code",
   "execution_count": 2,
   "id": "engaging-failing",
   "metadata": {},
   "outputs": [
    {
     "name": "stdout",
     "output_type": "stream",
     "text": [
      "Chapter 1 (47 verses)\n",
      "Chapter 2 (72 verses)\n",
      "Chapter 3 (43 verses)\n",
      "Chapter 4 (42 verses)\n",
      "Chapter 5 (29 verses)\n",
      "Chapter 6 (47 verses)\n",
      "Chapter 7 (30 verses)\n",
      "Chapter 8 (28 verses)\n",
      "Chapter 9 (34 verses)\n",
      "Chapter 10 (42 verses)\n",
      "Chapter 11 (55 verses)\n",
      "Chapter 12 (20 verses)\n",
      "Chapter 13 (34 verses)\n",
      "Chapter 14 (27 verses)\n",
      "Chapter 15 (20 verses)\n",
      "Chapter 16 (24 verses)\n",
      "Chapter 17 (28 verses)\n",
      "Chapter 18 (78 verses)\n"
     ]
    }
   ],
   "source": [
    "# fetch chapter wise details:\n",
    "chap_verse_cnt_dict = {}\n",
    "for i in BeautifulSoup(requests.get('https://en.wikipedia.org/wiki/Bhagavad_Gita#Chapters').content,\n",
    "                       'html.parser').find_all(class_='mw-headline'):\n",
    "    tx = i.get_text()\n",
    "    if (tx.find('Chapter ')!=-1):\n",
    "        print(tx)        \n",
    "        chap_verse_cnt_dict.update({tx.split(' ')[1]:int(tx.split(' ')[2][1:])})\n"
   ]
  },
  {
   "cell_type": "code",
   "execution_count": 3,
   "id": "usual-jaguar",
   "metadata": {},
   "outputs": [],
   "source": [
    "import json\n",
    "with open(\"chap_verse_cnt.json\", \"w\") as outfile: \n",
    "    json.dump(chap_verse_cnt_dict, outfile)"
   ]
  },
  {
   "cell_type": "code",
   "execution_count": 4,
   "id": "meaning-azerbaijan",
   "metadata": {},
   "outputs": [],
   "source": [
    "def get_quote(url):\n",
    "    '''\n",
    "    Note: Credits for the absolutely amazing content goes to https://bhagavadgita.io/.\n",
    "    It wouldn't have been possible without them.\n",
    "    '''\n",
    "    \n",
    "    \n",
    "    url_hindi = url + 'hi/'\n",
    "    content = requests.get(url)\n",
    "    content_hindi = requests.get(url_hindi)\n",
    "\n",
    "    english_tea = BeautifulSoup(content.content,'html.parser') # parse response in html\n",
    "    hindi_tea = BeautifulSoup(content_hindi.content,'html.parser') # parse response in html\n",
    "\n",
    "    # type(tea.find_all('div',{\"class\":'sanskrit-text'}))\n",
    "    verse = english_tea.find_all(class_ = 'verse-sanskrit')[0].get_text()\n",
    "    verse_transliteration = english_tea.find_all(class_ = 'verse-transliteration')[0].get_text()\n",
    "    verse_word_meanings_eng = english_tea.find_all(class_='verse-word')[0].get_text()\n",
    "    verse_meanings_eng = english_tea.find_all(class_='verse-meaning')[0].get_text()\n",
    "    verse_word_meanings_hindi = hindi_tea.find_all(class_='verse-word')[0].get_text()\n",
    "    verse_meanings_hindi = hindi_tea.find_all(class_='verse-meaning')[0].get_text()\n",
    "    return [verse,\n",
    "            verse_transliteration,\n",
    "            verse_meanings_hindi,\n",
    "            verse_meanings_eng,\n",
    "            verse_word_meanings_eng,\n",
    "            verse_word_meanings_hindi]"
   ]
  },
  {
   "cell_type": "code",
   "execution_count": null,
   "id": "unsigned-railway",
   "metadata": {},
   "outputs": [],
   "source": [
    "our_srimad_bhagvat_geeta={}\n",
    "for i in ['1']: #chap_verse_cnt.keys():\n",
    "    print ('---------CHAPTER: {} ---------'.format(i))\n",
    "    for j in range(1,chap_verse_cnt[i]+1):\n",
    "        print ('---------VERSE: {} ---------'.format(j))\n",
    "        url = 'https://bhagavadgita.io/chapter/{}/verse/{}/'.format(i,j)\n",
    "        verse_data = get_quote(url)\n",
    "        our_srimad_bhagvat_geeta.update({'{}_{}'.format(i,j):verse_data})"
   ]
  }
 ],
 "metadata": {
  "kernelspec": {
   "display_name": "Python 3",
   "language": "python",
   "name": "python3"
  },
  "language_info": {
   "codemirror_mode": {
    "name": "ipython",
    "version": 3
   },
   "file_extension": ".py",
   "mimetype": "text/x-python",
   "name": "python",
   "nbconvert_exporter": "python",
   "pygments_lexer": "ipython3",
   "version": "3.7.6"
  }
 },
 "nbformat": 4,
 "nbformat_minor": 5
}
