{
 "cells": [
  {
   "cell_type": "code",
   "execution_count": 1,
   "id": "happy-western",
   "metadata": {},
   "outputs": [],
   "source": [
    "import requests\n",
    "from bs4 import BeautifulSoup"
   ]
  },
  {
   "cell_type": "code",
   "execution_count": 2,
   "id": "elder-madness",
   "metadata": {},
   "outputs": [
    {
     "name": "stdout",
     "output_type": "stream",
     "text": [
      "Chapter 1 (47 verses)\n",
      "Chapter 2 (72 verses)\n",
      "Chapter 3 (43 verses)\n",
      "Chapter 4 (42 verses)\n",
      "Chapter 5 (29 verses)\n",
      "Chapter 6 (47 verses)\n",
      "Chapter 7 (30 verses)\n",
      "Chapter 8 (28 verses)\n",
      "Chapter 9 (34 verses)\n",
      "Chapter 10 (42 verses)\n",
      "Chapter 11 (55 verses)\n",
      "Chapter 12 (20 verses)\n",
      "Chapter 13 (34 verses)\n",
      "Chapter 14 (27 verses)\n",
      "Chapter 15 (20 verses)\n",
      "Chapter 16 (24 verses)\n",
      "Chapter 17 (28 verses)\n",
      "Chapter 18 (78 verses)\n"
     ]
    }
   ],
   "source": [
    "# fetch chapter wise details:\n",
    "chap_verse_cnt_dict = {}\n",
    "for i in BeautifulSoup(requests.get('https://en.wikipedia.org/wiki/Bhagavad_Gita#Chapters').content,\n",
    "                       'html.parser').find_all(class_='mw-headline'):\n",
    "    tx = i.get_text()\n",
    "    if (tx.find('Chapter ')!=-1):\n",
    "        print(tx)        \n",
    "        chap_verse_cnt_dict.update({tx.split(' ')[1]:int(tx.split(' ')[2][1:])})\n"
   ]
  },
  {
   "cell_type": "code",
   "execution_count": 3,
   "id": "grand-battery",
   "metadata": {},
   "outputs": [],
   "source": [
    "import json\n",
    "with open(\"chap_verse_cnt.json\", \"w\") as outfile: \n",
    "    json.dump(chap_verse_cnt_dict, outfile)"
   ]
  }
 ],
 "metadata": {
  "kernelspec": {
   "display_name": "Python 3",
   "language": "python",
   "name": "python3"
  },
  "language_info": {
   "codemirror_mode": {
    "name": "ipython",
    "version": 3
   },
   "file_extension": ".py",
   "mimetype": "text/x-python",
   "name": "python",
   "nbconvert_exporter": "python",
   "pygments_lexer": "ipython3",
   "version": "3.7.6"
  }
 },
 "nbformat": 4,
 "nbformat_minor": 5
}
